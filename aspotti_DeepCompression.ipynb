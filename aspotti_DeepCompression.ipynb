{
  "cells": [
    {
      "cell_type": "markdown",
      "metadata": {
        "id": "LYYHgwqP8MeT"
      },
      "source": [
        "# **LAB 2 - Pruning, Quantization and Huffman Coding**"
      ]
    },
    {
      "cell_type": "markdown",
      "metadata": {
        "id": "h2WL9E-d8bM2"
      },
      "source": [
        "**Connecting to Google Drive**"
      ]
    },
    {
      "cell_type": "code",
      "execution_count": 1,
      "metadata": {
        "colab": {
          "base_uri": "https://localhost:8080/"
        },
        "id": "fpVEJhx8oOhH",
        "outputId": "a4db106b-49b9-4618-c37c-fd2ea7efdf7c"
      },
      "outputs": [
        {
          "output_type": "stream",
          "name": "stdout",
          "text": [
            "Drive already mounted at /content/drive; to attempt to forcibly remount, call drive.mount(\"/content/drive\", force_remount=True).\n",
            "/content/drive/My Drive/ECE 591/Lab 2\n"
          ]
        }
      ],
      "source": [
        "from google.colab import drive\n",
        "drive.mount('/content/drive')\n",
        "%cd /content/drive/My Drive/ECE 591/Lab 2"
      ]
    },
    {
      "cell_type": "markdown",
      "metadata": {
        "id": "LBdD1qJt8gSv"
      },
      "source": [
        "**Importing Libraries**"
      ]
    },
    {
      "cell_type": "code",
      "execution_count": 2,
      "metadata": {
        "id": "Rv-ghQ6ZoP4b"
      },
      "outputs": [],
      "source": [
        "from vgg16 import VGG16_half\n",
        "from train_util import train, finetune_after_prune, test\n",
        "from quantize import *\n",
        "from huffman_coding import huffman_coding, _huffman_coding_per_layer\n",
        "from pruned_layers import *\n",
        "from summary import summary\n",
        "import torch\n",
        "import numpy as np\n",
        "from prune import prune\n",
        "import time\n",
        "import matplotlib.pyplot as plt\n",
        "import psutil"
      ]
    },
    {
      "cell_type": "code",
      "execution_count": 3,
      "metadata": {
        "id": "Fs5ip-PjoS2F"
      },
      "outputs": [],
      "source": [
        "# Define device\n",
        "device = 'cuda' if torch.cuda.is_available() else 'cpu'"
      ]
    },
    {
      "cell_type": "markdown",
      "metadata": {
        "id": "cY8N5Kub8mHW"
      },
      "source": [
        "## **Full-Precision Model Training**"
      ]
    },
    {
      "cell_type": "code",
      "execution_count": 4,
      "metadata": {
        "id": "TCdku0fboUho"
      },
      "outputs": [],
      "source": [
        "# Create the VGG-16_half model\n",
        "net = VGG16_half()\n",
        "net = net.to(device)\n",
        "\n",
        "# Hyperparameter tuning\n",
        "epochs = 60  # You can increase this number as needed\n",
        "batch_size = 64 # Experiment with batch sizes\n",
        "lr = 0.01  # Initial learning rate\n",
        "reg = 0.001  # Regularization strength\n",
        "\n",
        "# Uncomment to load pretrained weights\n",
        "#net.load_state_dict(torch.load(\"net_before_pruning.pt\"))\n",
        "\n",
        "# Tune the hyperparameters and train\n",
        "#train(net, epochs=epochs, batch_size=batch_size, lr=lr, reg=reg)\n",
        "#train(net, epochs=10, batch_size=128, lr=0.0001, reg=0.01)"
      ]
    },
    {
      "cell_type": "code",
      "execution_count": 5,
      "metadata": {
        "id": "z9Yij2QAwGKT",
        "colab": {
          "base_uri": "https://localhost:8080/"
        },
        "outputId": "a59e9fc1-00a8-4484-ebf5-2a61927111e9"
      },
      "outputs": [
        {
          "output_type": "stream",
          "name": "stdout",
          "text": [
            "Files already downloaded and verified\n",
            "Test Loss=0.2894, Test accuracy=0.9156\n"
          ]
        }
      ],
      "source": [
        "# Load the best weight parameters\n",
        "net.load_state_dict(torch.load(\"net_before_pruning.pt\"))\n",
        "# Test the model\n",
        "test(net)"
      ]
    },
    {
      "cell_type": "code",
      "execution_count": 6,
      "metadata": {
        "id": "evk-iRKB9ExR",
        "colab": {
          "base_uri": "https://localhost:8080/"
        },
        "outputId": "43ba2afd-439c-4bd8-f436-d150843dffa0"
      },
      "outputs": [
        {
          "output_type": "stream",
          "name": "stdout",
          "text": [
            "-----Summary before pruning-----\n",
            "Layer id\tType\t\tParameter\tNon-zero parameter\tSparsity(\\%)\n",
            "1\t\tConvolutional\t864\t\t864\t\t\t0.000000\n",
            "2\t\tBatchNorm\tN/A\t\tN/A\t\t\tN/A\n",
            "3\t\tReLU\t\tN/A\t\tN/A\t\t\tN/A\n",
            "4\t\tConvolutional\t9216\t\t9216\t\t\t0.000000\n",
            "5\t\tBatchNorm\tN/A\t\tN/A\t\t\tN/A\n",
            "6\t\tReLU\t\tN/A\t\tN/A\t\t\tN/A\n",
            "7\t\tConvolutional\t18432\t\t18432\t\t\t0.000000\n",
            "8\t\tBatchNorm\tN/A\t\tN/A\t\t\tN/A\n",
            "9\t\tReLU\t\tN/A\t\tN/A\t\t\tN/A\n",
            "10\t\tConvolutional\t36864\t\t36864\t\t\t0.000000\n",
            "11\t\tBatchNorm\tN/A\t\tN/A\t\t\tN/A\n",
            "12\t\tReLU\t\tN/A\t\tN/A\t\t\tN/A\n",
            "13\t\tConvolutional\t73728\t\t73728\t\t\t0.000000\n",
            "14\t\tBatchNorm\tN/A\t\tN/A\t\t\tN/A\n",
            "15\t\tReLU\t\tN/A\t\tN/A\t\t\tN/A\n",
            "16\t\tConvolutional\t147456\t\t147456\t\t\t0.000000\n",
            "17\t\tBatchNorm\tN/A\t\tN/A\t\t\tN/A\n",
            "18\t\tReLU\t\tN/A\t\tN/A\t\t\tN/A\n",
            "19\t\tConvolutional\t147456\t\t147456\t\t\t0.000000\n",
            "20\t\tBatchNorm\tN/A\t\tN/A\t\t\tN/A\n",
            "21\t\tReLU\t\tN/A\t\tN/A\t\t\tN/A\n",
            "22\t\tConvolutional\t294912\t\t294912\t\t\t0.000000\n",
            "23\t\tBatchNorm\tN/A\t\tN/A\t\t\tN/A\n",
            "24\t\tReLU\t\tN/A\t\tN/A\t\t\tN/A\n",
            "25\t\tConvolutional\t589824\t\t589824\t\t\t0.000000\n",
            "26\t\tBatchNorm\tN/A\t\tN/A\t\t\tN/A\n",
            "27\t\tReLU\t\tN/A\t\tN/A\t\t\tN/A\n",
            "28\t\tConvolutional\t589824\t\t589824\t\t\t0.000000\n",
            "29\t\tBatchNorm\tN/A\t\tN/A\t\t\tN/A\n",
            "30\t\tReLU\t\tN/A\t\tN/A\t\t\tN/A\n",
            "31\t\tConvolutional\t589824\t\t589824\t\t\t0.000000\n",
            "32\t\tBatchNorm\tN/A\t\tN/A\t\t\tN/A\n",
            "33\t\tReLU\t\tN/A\t\tN/A\t\t\tN/A\n",
            "34\t\tConvolutional\t589824\t\t589824\t\t\t0.000000\n",
            "35\t\tBatchNorm\tN/A\t\tN/A\t\t\tN/A\n",
            "36\t\tReLU\t\tN/A\t\tN/A\t\t\tN/A\n",
            "37\t\tConvolutional\t589824\t\t589824\t\t\t0.000000\n",
            "38\t\tBatchNorm\tN/A\t\tN/A\t\t\tN/A\n",
            "39\t\tReLU\t\tN/A\t\tN/A\t\t\tN/A\n",
            "40\t\tLinear\t\t65536\t\t65536\t\t\t0.000000\n",
            "41\t\tBatchNorm\tN/A\t\tN/A\t\t\tN/A\n",
            "42\t\tReLU\t\tN/A\t\tN/A\t\t\tN/A\n",
            "43\t\tLinear\t\t65536\t\t65536\t\t\t0.000000\n",
            "44\t\tBatchNorm\tN/A\t\tN/A\t\t\tN/A\n",
            "45\t\tReLU\t\tN/A\t\tN/A\t\t\tN/A\n",
            "46\t\tLinear\t\t2560\t\t2560\t\t\t0.000000\n",
            "Total nonzero parameters: 3811680\n",
            "Total parameters: 3811680\n",
            "Total sparsity: 0.000000\n",
            "-------------------------------\n"
          ]
        }
      ],
      "source": [
        "print(\"-----Summary before pruning-----\")\n",
        "summary(net)\n",
        "print(\"-------------------------------\")"
      ]
    },
    {
      "cell_type": "code",
      "source": [
        "model_size_bytes = sum(p.numel() * p.element_size() for p in net.parameters())\n",
        "\n",
        "# Convert to megabytes (MB)\n",
        "model_size_MB = model_size_bytes / (1024 * 1024)\n",
        "\n",
        "print(f\"Size of the model's weights: {model_size_MB:.2f} MB\")"
      ],
      "metadata": {
        "colab": {
          "base_uri": "https://localhost:8080/"
        },
        "id": "bx9AwgSgQIzT",
        "outputId": "4e621aa9-b0dd-4c59-bcff-67cf44443aac"
      },
      "execution_count": 7,
      "outputs": [
        {
          "output_type": "stream",
          "name": "stdout",
          "text": [
            "Size of the model's weights: 14.56 MB\n"
          ]
        }
      ]
    },
    {
      "cell_type": "markdown",
      "metadata": {
        "id": "28e1Un9Q9Fy-"
      },
      "source": [
        "## **Pruning and Fine-Tuning with Pruned Connections**"
      ]
    },
    {
      "cell_type": "markdown",
      "metadata": {
        "id": "_yu8Bpn99ptD"
      },
      "source": [
        "**Pruning**"
      ]
    },
    {
      "cell_type": "code",
      "execution_count": null,
      "metadata": {
        "colab": {
          "base_uri": "https://localhost:8080/"
        },
        "id": "R5RSM-Lr0iR6",
        "outputId": "29f057ba-1546-46bd-866f-4d3f1ae12671"
      },
      "outputs": [
        {
          "output_type": "stream",
          "name": "stdout",
          "text": [
            "Files already downloaded and verified\n",
            "Test Loss=0.7853, Test accuracy=0.7623\n"
          ]
        }
      ],
      "source": [
        "# Test accuracy before fine-tuning\n",
        "prune(net, method='std', q=60.6987, s=0.75)\n",
        "test(net)"
      ]
    },
    {
      "cell_type": "code",
      "execution_count": null,
      "metadata": {
        "colab": {
          "base_uri": "https://localhost:8080/"
        },
        "id": "w6Ag-D5dQcCd",
        "outputId": "203c3460-a2d4-421e-ae46-4172951c3c9d"
      },
      "outputs": [
        {
          "output_type": "stream",
          "name": "stdout",
          "text": [
            "-----Summary After pruning (Before Fine-tuning)-----\n",
            "Layer id\tType\t\tParameter\tNon-zero parameter\tSparsity(\\%)\n",
            "1\t\tConvolutional\t864\t\t340\t\t\t0.606481\n",
            "2\t\tBatchNorm\tN/A\t\tN/A\t\t\tN/A\n",
            "3\t\tReLU\t\tN/A\t\tN/A\t\t\tN/A\n",
            "4\t\tConvolutional\t9216\t\t3622\t\t\t0.606988\n",
            "5\t\tBatchNorm\tN/A\t\tN/A\t\t\tN/A\n",
            "6\t\tReLU\t\tN/A\t\tN/A\t\t\tN/A\n",
            "7\t\tConvolutional\t18432\t\t7244\t\t\t0.606988\n",
            "8\t\tBatchNorm\tN/A\t\tN/A\t\t\tN/A\n",
            "9\t\tReLU\t\tN/A\t\tN/A\t\t\tN/A\n",
            "10\t\tConvolutional\t36864\t\t14488\t\t\t0.606988\n",
            "11\t\tBatchNorm\tN/A\t\tN/A\t\t\tN/A\n",
            "12\t\tReLU\t\tN/A\t\tN/A\t\t\tN/A\n",
            "13\t\tConvolutional\t73728\t\t28976\t\t\t0.606988\n",
            "14\t\tBatchNorm\tN/A\t\tN/A\t\t\tN/A\n",
            "15\t\tReLU\t\tN/A\t\tN/A\t\t\tN/A\n",
            "16\t\tConvolutional\t147456\t\t57952\t\t\t0.606988\n",
            "17\t\tBatchNorm\tN/A\t\tN/A\t\t\tN/A\n",
            "18\t\tReLU\t\tN/A\t\tN/A\t\t\tN/A\n",
            "19\t\tConvolutional\t147456\t\t57952\t\t\t0.606988\n",
            "20\t\tBatchNorm\tN/A\t\tN/A\t\t\tN/A\n",
            "21\t\tReLU\t\tN/A\t\tN/A\t\t\tN/A\n",
            "22\t\tConvolutional\t294912\t\t115904\t\t\t0.606988\n",
            "23\t\tBatchNorm\tN/A\t\tN/A\t\t\tN/A\n",
            "24\t\tReLU\t\tN/A\t\tN/A\t\t\tN/A\n",
            "25\t\tConvolutional\t589824\t\t231809\t\t\t0.606986\n",
            "26\t\tBatchNorm\tN/A\t\tN/A\t\t\tN/A\n",
            "27\t\tReLU\t\tN/A\t\tN/A\t\t\tN/A\n",
            "28\t\tConvolutional\t589824\t\t231809\t\t\t0.606986\n",
            "29\t\tBatchNorm\tN/A\t\tN/A\t\t\tN/A\n",
            "30\t\tReLU\t\tN/A\t\tN/A\t\t\tN/A\n",
            "31\t\tConvolutional\t589824\t\t231809\t\t\t0.606986\n",
            "32\t\tBatchNorm\tN/A\t\tN/A\t\t\tN/A\n",
            "33\t\tReLU\t\tN/A\t\tN/A\t\t\tN/A\n",
            "34\t\tConvolutional\t589824\t\t231809\t\t\t0.606986\n",
            "35\t\tBatchNorm\tN/A\t\tN/A\t\t\tN/A\n",
            "36\t\tReLU\t\tN/A\t\tN/A\t\t\tN/A\n",
            "37\t\tConvolutional\t589824\t\t231809\t\t\t0.606986\n",
            "38\t\tBatchNorm\tN/A\t\tN/A\t\t\tN/A\n",
            "39\t\tReLU\t\tN/A\t\tN/A\t\t\tN/A\n",
            "40\t\tLinear\t\t65536\t\t25757\t\t\t0.606979\n",
            "41\t\tBatchNorm\tN/A\t\tN/A\t\t\tN/A\n",
            "42\t\tReLU\t\tN/A\t\tN/A\t\t\tN/A\n",
            "43\t\tLinear\t\t65536\t\t25757\t\t\t0.606979\n",
            "44\t\tBatchNorm\tN/A\t\tN/A\t\t\tN/A\n",
            "45\t\tReLU\t\tN/A\t\tN/A\t\t\tN/A\n",
            "46\t\tLinear\t\t2560\t\t1006\t\t\t0.607031\n",
            "Total nonzero parameters: 1498043\n",
            "Total parameters: 3811680\n",
            "Total sparsity: 0.606986\n",
            "-------------------------------\n"
          ]
        }
      ],
      "source": [
        "print(\"-----Summary After pruning (Before Fine-tuning)-----\")\n",
        "summary(net)\n",
        "print(\"-------------------------------\")"
      ]
    },
    {
      "cell_type": "markdown",
      "metadata": {
        "id": "cHUtQc3v98Sa"
      },
      "source": [
        "**Relationship between Sparsity and Accuracy Drop with respect to Sensitivity**\n",
        "Assignment 2 - PART D"
      ]
    },
    {
      "cell_type": "code",
      "execution_count": null,
      "metadata": {
        "colab": {
          "base_uri": "https://localhost:8080/",
          "height": 564
        },
        "id": "egUWq1_Ii14y",
        "outputId": "3506f297-db90-4106-af9e-193fea509fce"
      },
      "outputs": [
        {
          "output_type": "display_data",
          "data": {
            "text/plain": [
              "<Figure size 800x600 with 1 Axes>"
            ],
            "image/png": "[encoded data removed]"
          },
          "metadata": {}
        }
      ],
      "source": [
        "Sensitivity = [0.01, 0.25, 0.5, 0.75, 0.99]\n",
        "Test_Accuracy = [0.9156, 0.9135, 0.9006, 0.7796, 0.3426]\n",
        "Total_Sparsity = [ 0.009386, 0.231119, 0.438113, 0.606987, 0.728948]\n",
        "\n",
        "# Calculate accuracy drop from the highest accuracy\n",
        "Original_Accuracy = 0.9111\n",
        "Accuracy_Drop = [Original_Accuracy - acc for acc in Test_Accuracy]\n",
        "\n",
        "# Create the plot\n",
        "plt.figure(figsize=(8, 6))\n",
        "plt.plot(Total_Sparsity, Accuracy_Drop, marker='o', linestyle='-')\n",
        "plt.title('Sparsity vs. Accuracy Drop')\n",
        "plt.xlabel('Total Sparsity')\n",
        "plt.ylabel('Accuracy Drop')\n",
        "plt.grid(True)\n",
        "\n",
        "# Annotate points with their corresponding sensitivity values\n",
        "for i, txt in enumerate(Sensitivity):\n",
        "    plt.annotate(f'Sensitivity: {Sensitivity[i]}', (Total_Sparsity[i], Accuracy_Drop[i]))\n",
        "\n",
        "plt.show()"
      ]
    },
    {
      "cell_type": "markdown",
      "metadata": {
        "id": "k-EHxOUu9WLf"
      },
      "source": [
        "After experiment chosen the method of Standard Deviation with Sensitivity = 0.75"
      ]
    },
    {
      "cell_type": "markdown",
      "metadata": {
        "id": "E0w5cDPi9rh5"
      },
      "source": [
        "**Fine-Tuning**"
      ]
    },
    {
      "cell_type": "code",
      "execution_count": 14,
      "metadata": {
        "id": "rxGi5tKc9VvY"
      },
      "outputs": [],
      "source": [
        "# Uncomment to load pretrained weights\n",
        "#net.load_state_dict(torch.load(\"net_after_pruning.pt\"))\n",
        "\n",
        "# Comment if you have loaded pretrained weights\n",
        "#finetune_after_prune(net, epochs=30, batch_size=128, lr=0.01, reg=0.0001)"
      ]
    },
    {
      "cell_type": "code",
      "execution_count": 8,
      "metadata": {
        "id": "cLpTKhJs9z5K",
        "colab": {
          "base_uri": "https://localhost:8080/"
        },
        "outputId": "fe28ccb6-5d11-4915-a084-e8d72cdcf4e1"
      },
      "outputs": [
        {
          "output_type": "stream",
          "name": "stdout",
          "text": [
            "Files already downloaded and verified\n",
            "Test Loss=0.3291, Test accuracy=0.9009\n"
          ]
        }
      ],
      "source": [
        "# Load the best weight paramters\n",
        "net.load_state_dict(torch.load(\"net_after_pruning.pt\"))\n",
        "test(net)"
      ]
    },
    {
      "cell_type": "code",
      "execution_count": 9,
      "metadata": {
        "id": "7ksIgvuM95Fd",
        "colab": {
          "base_uri": "https://localhost:8080/"
        },
        "outputId": "3eff9467-a1e6-4f1c-ce54-9d759fd71541"
      },
      "outputs": [
        {
          "output_type": "stream",
          "name": "stdout",
          "text": [
            "-----Summary After pruning-----\n",
            "Layer id\tType\t\tParameter\tNon-zero parameter\tSparsity(\\%)\n",
            "1\t\tConvolutional\t864\t\t230\t\t\t0.733796\n",
            "2\t\tBatchNorm\tN/A\t\tN/A\t\t\tN/A\n",
            "3\t\tReLU\t\tN/A\t\tN/A\t\t\tN/A\n",
            "4\t\tConvolutional\t9216\t\t2528\t\t\t0.725694\n",
            "5\t\tBatchNorm\tN/A\t\tN/A\t\t\tN/A\n",
            "6\t\tReLU\t\tN/A\t\tN/A\t\t\tN/A\n",
            "7\t\tConvolutional\t18432\t\t6588\t\t\t0.642578\n",
            "8\t\tBatchNorm\tN/A\t\tN/A\t\t\tN/A\n",
            "9\t\tReLU\t\tN/A\t\tN/A\t\t\tN/A\n",
            "10\t\tConvolutional\t36864\t\t14418\t\t\t0.608887\n",
            "11\t\tBatchNorm\tN/A\t\tN/A\t\t\tN/A\n",
            "12\t\tReLU\t\tN/A\t\tN/A\t\t\tN/A\n",
            "13\t\tConvolutional\t73728\t\t28970\t\t\t0.607069\n",
            "14\t\tBatchNorm\tN/A\t\tN/A\t\t\tN/A\n",
            "15\t\tReLU\t\tN/A\t\tN/A\t\t\tN/A\n",
            "16\t\tConvolutional\t147456\t\t58029\t\t\t0.606466\n",
            "17\t\tBatchNorm\tN/A\t\tN/A\t\t\tN/A\n",
            "18\t\tReLU\t\tN/A\t\tN/A\t\t\tN/A\n",
            "19\t\tConvolutional\t147456\t\t56832\t\t\t0.614583\n",
            "20\t\tBatchNorm\tN/A\t\tN/A\t\t\tN/A\n",
            "21\t\tReLU\t\tN/A\t\tN/A\t\t\tN/A\n",
            "22\t\tConvolutional\t294912\t\t110993\t\t\t0.623640\n",
            "23\t\tBatchNorm\tN/A\t\tN/A\t\t\tN/A\n",
            "24\t\tReLU\t\tN/A\t\tN/A\t\t\tN/A\n",
            "25\t\tConvolutional\t589824\t\t220116\t\t\t0.626811\n",
            "26\t\tBatchNorm\tN/A\t\tN/A\t\t\tN/A\n",
            "27\t\tReLU\t\tN/A\t\tN/A\t\t\tN/A\n",
            "28\t\tConvolutional\t589824\t\t210881\t\t\t0.642468\n",
            "29\t\tBatchNorm\tN/A\t\tN/A\t\t\tN/A\n",
            "30\t\tReLU\t\tN/A\t\tN/A\t\t\tN/A\n",
            "31\t\tConvolutional\t589824\t\t190503\t\t\t0.677017\n",
            "32\t\tBatchNorm\tN/A\t\tN/A\t\t\tN/A\n",
            "33\t\tReLU\t\tN/A\t\tN/A\t\t\tN/A\n",
            "34\t\tConvolutional\t589824\t\t184848\t\t\t0.686605\n",
            "35\t\tBatchNorm\tN/A\t\tN/A\t\t\tN/A\n",
            "36\t\tReLU\t\tN/A\t\tN/A\t\t\tN/A\n",
            "37\t\tConvolutional\t589824\t\t156545\t\t\t0.734590\n",
            "38\t\tBatchNorm\tN/A\t\tN/A\t\t\tN/A\n",
            "39\t\tReLU\t\tN/A\t\tN/A\t\t\tN/A\n",
            "40\t\tLinear\t\t65536\t\t25483\t\t\t0.611160\n",
            "41\t\tBatchNorm\tN/A\t\tN/A\t\t\tN/A\n",
            "42\t\tReLU\t\tN/A\t\tN/A\t\t\tN/A\n",
            "43\t\tLinear\t\t65536\t\t24805\t\t\t0.621506\n",
            "44\t\tBatchNorm\tN/A\t\tN/A\t\t\tN/A\n",
            "45\t\tReLU\t\tN/A\t\tN/A\t\t\tN/A\n",
            "46\t\tLinear\t\t2560\t\t1183\t\t\t0.537891\n",
            "Total nonzero parameters: 1292952\n",
            "Total parameters: 3811680\n",
            "Total sparsity: 0.660792\n",
            "-------------------------------\n"
          ]
        }
      ],
      "source": [
        "print(\"-----Summary After pruning-----\")\n",
        "summary(net)\n",
        "print(\"-------------------------------\")"
      ]
    },
    {
      "cell_type": "markdown",
      "metadata": {
        "id": "AYWFWDmN-axI"
      },
      "source": [
        "## **Quantization**"
      ]
    },
    {
      "cell_type": "code",
      "execution_count": 10,
      "metadata": {
        "id": "tPfR9iUg8QXj",
        "colab": {
          "base_uri": "https://localhost:8080/"
        },
        "outputId": "dfef2378-f6ec-475a-e2cd-4a708d8a815e"
      },
      "outputs": [
        {
          "output_type": "stream",
          "name": "stdout",
          "text": [
            "Complete 1 layers quantization for PrunedConv...\n"
          ]
        },
        {
          "output_type": "stream",
          "name": "stderr",
          "text": [
            "/usr/local/lib/python3.10/dist-packages/sklearn/cluster/_kmeans.py:870: FutureWarning: The default value of `n_init` will change from 10 to 'auto' in 1.4. Set the value of `n_init` explicitly to suppress the warning\n",
            "  warnings.warn(\n",
            "/usr/local/lib/python3.10/dist-packages/sklearn/cluster/_kmeans.py:870: FutureWarning: The default value of `n_init` will change from 10 to 'auto' in 1.4. Set the value of `n_init` explicitly to suppress the warning\n",
            "  warnings.warn(\n"
          ]
        },
        {
          "output_type": "stream",
          "name": "stdout",
          "text": [
            "Complete 2 layers quantization for PrunedConv...\n"
          ]
        },
        {
          "output_type": "stream",
          "name": "stderr",
          "text": [
            "/usr/local/lib/python3.10/dist-packages/sklearn/cluster/_kmeans.py:870: FutureWarning: The default value of `n_init` will change from 10 to 'auto' in 1.4. Set the value of `n_init` explicitly to suppress the warning\n",
            "  warnings.warn(\n"
          ]
        },
        {
          "output_type": "stream",
          "name": "stdout",
          "text": [
            "Complete 3 layers quantization for PrunedConv...\n"
          ]
        },
        {
          "output_type": "stream",
          "name": "stderr",
          "text": [
            "/usr/local/lib/python3.10/dist-packages/sklearn/cluster/_kmeans.py:870: FutureWarning: The default value of `n_init` will change from 10 to 'auto' in 1.4. Set the value of `n_init` explicitly to suppress the warning\n",
            "  warnings.warn(\n"
          ]
        },
        {
          "output_type": "stream",
          "name": "stdout",
          "text": [
            "Complete 4 layers quantization for PrunedConv...\n"
          ]
        },
        {
          "output_type": "stream",
          "name": "stderr",
          "text": [
            "/usr/local/lib/python3.10/dist-packages/sklearn/cluster/_kmeans.py:870: FutureWarning: The default value of `n_init` will change from 10 to 'auto' in 1.4. Set the value of `n_init` explicitly to suppress the warning\n",
            "  warnings.warn(\n"
          ]
        },
        {
          "output_type": "stream",
          "name": "stdout",
          "text": [
            "Complete 5 layers quantization for PrunedConv...\n"
          ]
        },
        {
          "output_type": "stream",
          "name": "stderr",
          "text": [
            "/usr/local/lib/python3.10/dist-packages/sklearn/cluster/_kmeans.py:870: FutureWarning: The default value of `n_init` will change from 10 to 'auto' in 1.4. Set the value of `n_init` explicitly to suppress the warning\n",
            "  warnings.warn(\n"
          ]
        },
        {
          "output_type": "stream",
          "name": "stdout",
          "text": [
            "Complete 6 layers quantization for PrunedConv...\n"
          ]
        },
        {
          "output_type": "stream",
          "name": "stderr",
          "text": [
            "/usr/local/lib/python3.10/dist-packages/sklearn/cluster/_kmeans.py:870: FutureWarning: The default value of `n_init` will change from 10 to 'auto' in 1.4. Set the value of `n_init` explicitly to suppress the warning\n",
            "  warnings.warn(\n"
          ]
        },
        {
          "output_type": "stream",
          "name": "stdout",
          "text": [
            "Complete 7 layers quantization for PrunedConv...\n"
          ]
        },
        {
          "output_type": "stream",
          "name": "stderr",
          "text": [
            "/usr/local/lib/python3.10/dist-packages/sklearn/cluster/_kmeans.py:870: FutureWarning: The default value of `n_init` will change from 10 to 'auto' in 1.4. Set the value of `n_init` explicitly to suppress the warning\n",
            "  warnings.warn(\n"
          ]
        },
        {
          "output_type": "stream",
          "name": "stdout",
          "text": [
            "Complete 8 layers quantization for PrunedConv...\n"
          ]
        },
        {
          "output_type": "stream",
          "name": "stderr",
          "text": [
            "/usr/local/lib/python3.10/dist-packages/sklearn/cluster/_kmeans.py:870: FutureWarning: The default value of `n_init` will change from 10 to 'auto' in 1.4. Set the value of `n_init` explicitly to suppress the warning\n",
            "  warnings.warn(\n"
          ]
        },
        {
          "output_type": "stream",
          "name": "stdout",
          "text": [
            "Complete 9 layers quantization for PrunedConv...\n"
          ]
        },
        {
          "output_type": "stream",
          "name": "stderr",
          "text": [
            "/usr/local/lib/python3.10/dist-packages/sklearn/cluster/_kmeans.py:870: FutureWarning: The default value of `n_init` will change from 10 to 'auto' in 1.4. Set the value of `n_init` explicitly to suppress the warning\n",
            "  warnings.warn(\n"
          ]
        },
        {
          "output_type": "stream",
          "name": "stdout",
          "text": [
            "Complete 10 layers quantization for PrunedConv...\n"
          ]
        },
        {
          "output_type": "stream",
          "name": "stderr",
          "text": [
            "/usr/local/lib/python3.10/dist-packages/sklearn/cluster/_kmeans.py:870: FutureWarning: The default value of `n_init` will change from 10 to 'auto' in 1.4. Set the value of `n_init` explicitly to suppress the warning\n",
            "  warnings.warn(\n"
          ]
        },
        {
          "output_type": "stream",
          "name": "stdout",
          "text": [
            "Complete 11 layers quantization for PrunedConv...\n"
          ]
        },
        {
          "output_type": "stream",
          "name": "stderr",
          "text": [
            "/usr/local/lib/python3.10/dist-packages/sklearn/cluster/_kmeans.py:870: FutureWarning: The default value of `n_init` will change from 10 to 'auto' in 1.4. Set the value of `n_init` explicitly to suppress the warning\n",
            "  warnings.warn(\n"
          ]
        },
        {
          "output_type": "stream",
          "name": "stdout",
          "text": [
            "Complete 12 layers quantization for PrunedConv...\n"
          ]
        },
        {
          "output_type": "stream",
          "name": "stderr",
          "text": [
            "/usr/local/lib/python3.10/dist-packages/sklearn/cluster/_kmeans.py:870: FutureWarning: The default value of `n_init` will change from 10 to 'auto' in 1.4. Set the value of `n_init` explicitly to suppress the warning\n",
            "  warnings.warn(\n"
          ]
        },
        {
          "output_type": "stream",
          "name": "stdout",
          "text": [
            "Complete 13 layers quantization for PrunedConv...\n"
          ]
        },
        {
          "output_type": "stream",
          "name": "stderr",
          "text": [
            "/usr/local/lib/python3.10/dist-packages/sklearn/cluster/_kmeans.py:870: FutureWarning: The default value of `n_init` will change from 10 to 'auto' in 1.4. Set the value of `n_init` explicitly to suppress the warning\n",
            "  warnings.warn(\n"
          ]
        },
        {
          "output_type": "stream",
          "name": "stdout",
          "text": [
            "Complete 14 layers quantization for PruneLinear...\n"
          ]
        },
        {
          "output_type": "stream",
          "name": "stderr",
          "text": [
            "/usr/local/lib/python3.10/dist-packages/sklearn/cluster/_kmeans.py:870: FutureWarning: The default value of `n_init` will change from 10 to 'auto' in 1.4. Set the value of `n_init` explicitly to suppress the warning\n",
            "  warnings.warn(\n"
          ]
        },
        {
          "output_type": "stream",
          "name": "stdout",
          "text": [
            "Complete 15 layers quantization for PruneLinear...\n",
            "Complete 16 layers quantization for PruneLinear...\n",
            "Elapsed time: 78.335603 seconds\n",
            "Memory used during the operation: -0.08 GB\n"
          ]
        },
        {
          "output_type": "stream",
          "name": "stderr",
          "text": [
            "/usr/local/lib/python3.10/dist-packages/sklearn/cluster/_kmeans.py:870: FutureWarning: The default value of `n_init` will change from 10 to 'auto' in 1.4. Set the value of `n_init` explicitly to suppress the warning\n",
            "  warnings.warn(\n"
          ]
        }
      ],
      "source": [
        "# Measure memory consumption before the operation\n",
        "start_memory = psutil.virtual_memory().used / (1024 ** 3)  # in GB\n",
        "\n",
        "start_time = time.time()\n",
        "\n",
        "centers = quantize_whole_model(net, bits=4)   # K-means Clustering + Quantization\n",
        "np.save(\"codebook_vgg16.npy\", centers)    # Save the cluster centers to a numpy file\n",
        "\n",
        "end_time = time.time()\n",
        "\n",
        "# Measure memory consumption after the operation\n",
        "end_memory = psutil.virtual_memory().used / (1024 ** 3)  # in GB\n",
        "\n",
        "elapsed_time = end_time - start_time\n",
        "print(f\"Elapsed time: {elapsed_time:.6f} seconds\")\n",
        "\n",
        "memory_used = end_memory - start_memory\n",
        "print(f\"Memory used during the operation: {memory_used:.2f} GB\")"
      ]
    },
    {
      "cell_type": "code",
      "execution_count": 11,
      "metadata": {
        "id": "FJTuD2yG8S0i",
        "colab": {
          "base_uri": "https://localhost:8080/"
        },
        "outputId": "0a33b5a8-4032-4047-f40a-f5a0ee92788c"
      },
      "outputs": [
        {
          "output_type": "stream",
          "name": "stdout",
          "text": [
            "Files already downloaded and verified\n",
            "Test Loss=0.3420, Test accuracy=0.8962\n"
          ]
        }
      ],
      "source": [
        "net.load_state_dict(torch.load(\"net_after_quantization.pt\"))\n",
        "test(net)"
      ]
    },
    {
      "cell_type": "code",
      "execution_count": 12,
      "metadata": {
        "id": "QL9qdSZ9cEk7",
        "colab": {
          "base_uri": "https://localhost:8080/"
        },
        "outputId": "282f2814-5dac-4827-a0ed-44dc7c7831a8"
      },
      "outputs": [
        {
          "output_type": "stream",
          "name": "stdout",
          "text": [
            "-----Summary After Quantization-----\n",
            "Layer id\tType\t\tParameter\tNon-zero parameter\tSparsity(\\%)\n",
            "1\t\tConvolutional\t864\t\t864\t\t\t0.000000\n",
            "2\t\tBatchNorm\tN/A\t\tN/A\t\t\tN/A\n",
            "3\t\tReLU\t\tN/A\t\tN/A\t\t\tN/A\n",
            "4\t\tConvolutional\t9216\t\t9216\t\t\t0.000000\n",
            "5\t\tBatchNorm\tN/A\t\tN/A\t\t\tN/A\n",
            "6\t\tReLU\t\tN/A\t\tN/A\t\t\tN/A\n",
            "7\t\tConvolutional\t18432\t\t18432\t\t\t0.000000\n",
            "8\t\tBatchNorm\tN/A\t\tN/A\t\t\tN/A\n",
            "9\t\tReLU\t\tN/A\t\tN/A\t\t\tN/A\n",
            "10\t\tConvolutional\t36864\t\t36864\t\t\t0.000000\n",
            "11\t\tBatchNorm\tN/A\t\tN/A\t\t\tN/A\n",
            "12\t\tReLU\t\tN/A\t\tN/A\t\t\tN/A\n",
            "13\t\tConvolutional\t73728\t\t73728\t\t\t0.000000\n",
            "14\t\tBatchNorm\tN/A\t\tN/A\t\t\tN/A\n",
            "15\t\tReLU\t\tN/A\t\tN/A\t\t\tN/A\n",
            "16\t\tConvolutional\t147456\t\t147456\t\t\t0.000000\n",
            "17\t\tBatchNorm\tN/A\t\tN/A\t\t\tN/A\n",
            "18\t\tReLU\t\tN/A\t\tN/A\t\t\tN/A\n",
            "19\t\tConvolutional\t147456\t\t147456\t\t\t0.000000\n",
            "20\t\tBatchNorm\tN/A\t\tN/A\t\t\tN/A\n",
            "21\t\tReLU\t\tN/A\t\tN/A\t\t\tN/A\n",
            "22\t\tConvolutional\t294912\t\t294912\t\t\t0.000000\n",
            "23\t\tBatchNorm\tN/A\t\tN/A\t\t\tN/A\n",
            "24\t\tReLU\t\tN/A\t\tN/A\t\t\tN/A\n",
            "25\t\tConvolutional\t589824\t\t589824\t\t\t0.000000\n",
            "26\t\tBatchNorm\tN/A\t\tN/A\t\t\tN/A\n",
            "27\t\tReLU\t\tN/A\t\tN/A\t\t\tN/A\n",
            "28\t\tConvolutional\t589824\t\t589824\t\t\t0.000000\n",
            "29\t\tBatchNorm\tN/A\t\tN/A\t\t\tN/A\n",
            "30\t\tReLU\t\tN/A\t\tN/A\t\t\tN/A\n",
            "31\t\tConvolutional\t589824\t\t589824\t\t\t0.000000\n",
            "32\t\tBatchNorm\tN/A\t\tN/A\t\t\tN/A\n",
            "33\t\tReLU\t\tN/A\t\tN/A\t\t\tN/A\n",
            "34\t\tConvolutional\t589824\t\t589824\t\t\t0.000000\n",
            "35\t\tBatchNorm\tN/A\t\tN/A\t\t\tN/A\n",
            "36\t\tReLU\t\tN/A\t\tN/A\t\t\tN/A\n",
            "37\t\tConvolutional\t589824\t\t589824\t\t\t0.000000\n",
            "38\t\tBatchNorm\tN/A\t\tN/A\t\t\tN/A\n",
            "39\t\tReLU\t\tN/A\t\tN/A\t\t\tN/A\n",
            "40\t\tLinear\t\t65536\t\t65536\t\t\t0.000000\n",
            "41\t\tBatchNorm\tN/A\t\tN/A\t\t\tN/A\n",
            "42\t\tReLU\t\tN/A\t\tN/A\t\t\tN/A\n",
            "43\t\tLinear\t\t65536\t\t65536\t\t\t0.000000\n",
            "44\t\tBatchNorm\tN/A\t\tN/A\t\t\tN/A\n",
            "45\t\tReLU\t\tN/A\t\tN/A\t\t\tN/A\n",
            "46\t\tLinear\t\t2560\t\t2560\t\t\t0.000000\n",
            "Total nonzero parameters: 3811680\n",
            "Total parameters: 3811680\n",
            "Total sparsity: 0.000000\n",
            "-------------------------------\n"
          ]
        }
      ],
      "source": [
        "print(\"-----Summary After Quantization-----\")\n",
        "summary(net)\n",
        "print(\"-------------------------------\")"
      ]
    },
    {
      "cell_type": "markdown",
      "metadata": {
        "id": "C7uP5Hgf_OC4"
      },
      "source": [
        "## **Huffman Coding**"
      ]
    },
    {
      "cell_type": "code",
      "execution_count": 13,
      "metadata": {
        "id": "ZcIuSCcj-s9e",
        "colab": {
          "base_uri": "https://localhost:8080/"
        },
        "outputId": "7f2b203c-5565-444a-e04f-5569e94a9f20"
      },
      "outputs": [
        {
          "output_type": "stream",
          "name": "stdout",
          "text": [
            "Original storage for each parameter: 4.0000 bits\n",
            "Average storage for each parameter after Huffman Coding: 1.9271 bits\n",
            "Complete 1 layers for Huffman Coding...\n",
            "Original storage for each parameter: 4.0000 bits\n",
            "Average storage for each parameter after Huffman Coding: 1.9354 bits\n",
            "Complete 2 layers for Huffman Coding...\n",
            "Original storage for each parameter: 4.0000 bits\n",
            "Average storage for each parameter after Huffman Coding: 2.2368 bits\n",
            "Complete 3 layers for Huffman Coding...\n",
            "Original storage for each parameter: 4.0000 bits\n",
            "Average storage for each parameter after Huffman Coding: 2.3995 bits\n",
            "Complete 4 layers for Huffman Coding...\n",
            "Original storage for each parameter: 4.0000 bits\n",
            "Average storage for each parameter after Huffman Coding: 2.3946 bits\n",
            "Complete 5 layers for Huffman Coding...\n",
            "Original storage for each parameter: 4.0000 bits\n",
            "Average storage for each parameter after Huffman Coding: 2.3890 bits\n",
            "Complete 6 layers for Huffman Coding...\n",
            "Original storage for each parameter: 4.0000 bits\n",
            "Average storage for each parameter after Huffman Coding: 2.3802 bits\n",
            "Complete 7 layers for Huffman Coding...\n",
            "Original storage for each parameter: 4.0000 bits\n",
            "Average storage for each parameter after Huffman Coding: 2.3123 bits\n",
            "Complete 8 layers for Huffman Coding...\n",
            "Original storage for each parameter: 4.0000 bits\n",
            "Average storage for each parameter after Huffman Coding: 2.2951 bits\n",
            "Complete 9 layers for Huffman Coding...\n",
            "Original storage for each parameter: 4.0000 bits\n",
            "Average storage for each parameter after Huffman Coding: 2.2334 bits\n",
            "Complete 10 layers for Huffman Coding...\n",
            "Original storage for each parameter: 4.0000 bits\n",
            "Average storage for each parameter after Huffman Coding: 2.0841 bits\n",
            "Complete 11 layers for Huffman Coding...\n",
            "Original storage for each parameter: 4.0000 bits\n",
            "Average storage for each parameter after Huffman Coding: 2.0533 bits\n",
            "Complete 12 layers for Huffman Coding...\n",
            "Original storage for each parameter: 4.0000 bits\n",
            "Average storage for each parameter after Huffman Coding: 1.8848 bits\n",
            "Complete 13 layers for Huffman Coding...\n",
            "Original storage for each parameter: 4.0000 bits\n",
            "Average storage for each parameter after Huffman Coding: 2.3822 bits\n",
            "Complete 14 layers for Huffman Coding...\n",
            "Original storage for each parameter: 4.0000 bits\n",
            "Average storage for each parameter after Huffman Coding: 2.3738 bits\n",
            "Complete 15 layers for Huffman Coding...\n",
            "Original storage for each parameter: 4.0000 bits\n",
            "Average storage for each parameter after Huffman Coding: 2.7313 bits\n",
            "Complete 16 layers for Huffman Coding...\n"
          ]
        }
      ],
      "source": [
        "frequency_map, encoding_map = huffman_coding(net, centers)\n",
        "np.save(\"huffman_encoding\", encoding_map)\n",
        "np.save(\"huffman_freq\", frequency_map)"
      ]
    },
    {
      "cell_type": "code",
      "execution_count": 14,
      "metadata": {
        "id": "9C6wjm8rzzWW"
      },
      "outputs": [],
      "source": [
        "import numpy as np\n",
        "\n",
        "# Load the Huffman encoding and frequency maps\n",
        "encoding_data = np.load(\"huffman_encoding.npy\", allow_pickle=True)\n",
        "frequency_data = np.load(\"huffman_freq.npy\", allow_pickle=True)\n",
        "\n",
        "# Access the arrays\n",
        "encoding_map = encoding_data[()]\n",
        "frequency_map = frequency_data[()]\n"
      ]
    },
    {
      "cell_type": "code",
      "execution_count": 15,
      "metadata": {
        "id": "Chj1flp0-s7U",
        "colab": {
          "base_uri": "https://localhost:8080/"
        },
        "outputId": "ef617256-1004-44ad-d288-37fc066db465"
      },
      "outputs": [
        {
          "output_type": "stream",
          "name": "stdout",
          "text": [
            "Layer 1:\n",
            "Frequency: 6.7520887e-09 - 634\n",
            "Frequency: 0.19361992 - 14\n",
            "Frequency: -0.46716404 - 3\n",
            "Frequency: 0.23157607 - 12\n",
            "Frequency: 0.10653642 - 46\n",
            "Frequency: 0.15035912 - 18\n",
            "Frequency: -0.3061535 - 5\n",
            "Frequency: -0.10213756 - 38\n",
            "Frequency: -0.21670783 - 14\n",
            "Frequency: -0.16538705 - 21\n",
            "Frequency: -0.13557835 - 31\n",
            "Frequency: 0.4275065 - 5\n",
            "Frequency: 0.2694088 - 7\n",
            "Frequency: -0.37376916 - 3\n",
            "Frequency: -0.262556 - 7\n",
            "Frequency: 0.340559 - 6\n",
            "Encoding: 0.10653642 - 000\n",
            "Encoding: -0.3061535 - 001000\n",
            "Encoding: 0.4275065 - 001001\n",
            "Encoding: -0.37376916 - 0010100\n",
            "Encoding: -0.46716404 - 0010101\n",
            "Encoding: 0.340559 - 001011\n",
            "Encoding: 0.23157607 - 00110\n",
            "Encoding: -0.21670783 - 00111\n",
            "Encoding: -0.262556 - 010000\n",
            "Encoding: 0.2694088 - 010001\n",
            "Encoding: 0.19361992 - 01001\n",
            "Encoding: -0.13557835 - 0101\n",
            "Encoding: -0.10213756 - 0110\n",
            "Encoding: 0.15035912 - 01110\n",
            "Encoding: -0.16538705 - 01111\n",
            "Encoding: 6.7520887e-09 - 1\n",
            "Layer 2:\n",
            "Frequency: 9.5926225e-08 - 6688\n",
            "Frequency: 0.10517792 - 100\n",
            "Frequency: 0.14000821 - 41\n",
            "Frequency: -0.08141361 - 152\n",
            "Frequency: -0.13066937 - 48\n",
            "Frequency: 0.049684253 - 276\n",
            "Frequency: -0.03803768 - 505\n",
            "Frequency: -0.050516114 - 345\n",
            "Frequency: -0.06552575 - 224\n",
            "Frequency: 0.037731543 - 374\n",
            "Frequency: -0.10372081 - 108\n",
            "Frequency: 0.063995294 - 189\n",
            "Frequency: -0.16753896 - 31\n",
            "Frequency: 0.08170703 - 113\n",
            "Frequency: 0.19498947 - 15\n",
            "Frequency: -0.22813565 - 7\n",
            "Encoding: -0.03803768 - 000\n",
            "Encoding: 0.08170703 - 00100\n",
            "Encoding: -0.22813565 - 00101000\n",
            "Encoding: 0.19498947 - 00101001\n",
            "Encoding: -0.16753896 - 0010101\n",
            "Encoding: 0.14000821 - 0010110\n",
            "Encoding: -0.13066937 - 0010111\n",
            "Encoding: 0.049684253 - 0011\n",
            "Encoding: -0.08141361 - 01000\n",
            "Encoding: 0.063995294 - 01001\n",
            "Encoding: -0.050516114 - 0101\n",
            "Encoding: 0.037731543 - 0110\n",
            "Encoding: 0.10517792 - 011100\n",
            "Encoding: -0.10372081 - 011101\n",
            "Encoding: -0.06552575 - 01111\n",
            "Encoding: 9.5926225e-08 - 1\n",
            "Layer 3:\n",
            "Frequency: -2.2631139e-07 - 11844\n",
            "Frequency: -0.032806378 - 1042\n",
            "Frequency: -0.050257824 - 626\n",
            "Frequency: 0.052749656 - 572\n",
            "Frequency: -0.041078173 - 862\n",
            "Frequency: 0.033169035 - 947\n",
            "Frequency: 0.06612681 - 411\n",
            "Frequency: 0.08547056 - 168\n",
            "Frequency: 0.041707475 - 779\n",
            "Frequency: -0.07283488 - 320\n",
            "Frequency: -0.060329486 - 478\n",
            "Frequency: -0.10702688 - 93\n",
            "Frequency: -0.087330125 - 169\n",
            "Frequency: -0.13172732 - 55\n",
            "Frequency: -0.1734357 - 18\n",
            "Frequency: 0.11574843 - 48\n",
            "Encoding: 0.052749656 - 0000\n",
            "Encoding: -0.050257824 - 0001\n",
            "Encoding: 0.08547056 - 001000\n",
            "Encoding: -0.087330125 - 001001\n",
            "Encoding: 0.06612681 - 00101\n",
            "Encoding: 0.041707475 - 0011\n",
            "Encoding: -0.041078173 - 0100\n",
            "Encoding: 0.033169035 - 0101\n",
            "Encoding: -0.060329486 - 01100\n",
            "Encoding: -0.10702688 - 0110100\n",
            "Encoding: -0.13172732 - 01101010\n",
            "Encoding: -0.1734357 - 011010110\n",
            "Encoding: 0.11574843 - 011010111\n",
            "Encoding: -0.07283488 - 011011\n",
            "Encoding: -0.032806378 - 0111\n",
            "Encoding: -2.2631139e-07 - 1\n",
            "Layer 4:\n",
            "Frequency: -4.8219226e-07 - 22446\n",
            "Frequency: -0.025524564 - 2096\n",
            "Frequency: -0.05707927 - 549\n",
            "Frequency: 0.04910261 - 803\n",
            "Frequency: 0.026199566 - 1798\n",
            "Frequency: -0.030617112 - 1791\n",
            "Frequency: -0.035912223 - 1452\n",
            "Frequency: 0.03316272 - 1465\n",
            "Frequency: -0.042020887 - 1270\n",
            "Frequency: -0.08434165 - 104\n",
            "Frequency: -0.048741907 - 846\n",
            "Frequency: 0.04081613 - 1039\n",
            "Frequency: -0.06754753 - 308\n",
            "Frequency: 0.059964016 - 525\n",
            "Frequency: 0.07414513 - 287\n",
            "Frequency: 0.09771018 - 85\n",
            "Encoding: -0.035912223 - 0000\n",
            "Encoding: 0.03316272 - 0001\n",
            "Encoding: -0.06754753 - 001000\n",
            "Encoding: 0.09771018 - 00100100\n",
            "Encoding: -0.08434165 - 00100101\n",
            "Encoding: 0.07414513 - 0010011\n",
            "Encoding: 0.04910261 - 00101\n",
            "Encoding: -0.030617112 - 0011\n",
            "Encoding: 0.026199566 - 0100\n",
            "Encoding: -0.048741907 - 01010\n",
            "Encoding: 0.04081613 - 01011\n",
            "Encoding: -0.025524564 - 0110\n",
            "Encoding: 0.059964016 - 011100\n",
            "Encoding: -0.05707927 - 011101\n",
            "Encoding: -0.042020887 - 01111\n",
            "Encoding: -4.8219226e-07 - 1\n",
            "Layer 5:\n",
            "Frequency: 0.02174702 - 3452\n",
            "Frequency: -1.5832484e-08 - 44758\n",
            "Frequency: 0.026869955 - 2982\n",
            "Frequency: -0.026017621 - 3754\n",
            "Frequency: -0.03656743 - 2384\n",
            "Frequency: 0.048500128 - 1128\n",
            "Frequency: 0.03993879 - 1766\n",
            "Frequency: -0.021523088 - 4048\n",
            "Frequency: -0.03095451 - 3112\n",
            "Frequency: 0.032863077 - 2442\n",
            "Frequency: -0.043642167 - 1728\n",
            "Frequency: -0.052755646 - 894\n",
            "Frequency: 0.07029937 - 320\n",
            "Frequency: -0.067314975 - 251\n",
            "Frequency: 0.09146589 - 83\n",
            "Frequency: 0.05827806 - 626\n",
            "Encoding: 0.026869955 - 0000\n",
            "Encoding: 0.05827806 - 000100\n",
            "Encoding: 0.07029937 - 0001010\n",
            "Encoding: 0.09146589 - 00010110\n",
            "Encoding: -0.067314975 - 00010111\n",
            "Encoding: -0.043642167 - 00011\n",
            "Encoding: -0.03095451 - 0010\n",
            "Encoding: 0.02174702 - 0011\n",
            "Encoding: -0.026017621 - 0100\n",
            "Encoding: 0.03993879 - 01010\n",
            "Encoding: -0.052755646 - 010110\n",
            "Encoding: 0.048500128 - 010111\n",
            "Encoding: -0.021523088 - 0110\n",
            "Encoding: -0.03656743 - 01110\n",
            "Encoding: 0.032863077 - 01111\n",
            "Encoding: -1.5832484e-08 - 1\n",
            "Layer 6:\n",
            "Frequency: -0.028785478 - 4656\n",
            "Frequency: -1.6104896e-06 - 89427\n",
            "Frequency: -0.016178027 - 9785\n",
            "Frequency: 0.01981597 - 5175\n",
            "Frequency: 0.040542204 - 1421\n",
            "Frequency: -0.024129845 - 6661\n",
            "Frequency: 0.033920173 - 2316\n",
            "Frequency: 0.016121997 - 6295\n",
            "Frequency: 0.023896739 - 4149\n",
            "Frequency: -0.019970372 - 8335\n",
            "Frequency: -0.034112375 - 3046\n",
            "Frequency: 0.048830926 - 713\n",
            "Frequency: 0.028477395 - 3185\n",
            "Frequency: 0.062051784 - 235\n",
            "Frequency: -0.040784433 - 1543\n",
            "Frequency: -0.050695498 - 514\n",
            "Encoding: 0.01981597 - 0000\n",
            "Encoding: 0.040542204 - 000100\n",
            "Encoding: 0.048830926 - 0001010\n",
            "Encoding: 0.062051784 - 00010110\n",
            "Encoding: -0.050695498 - 00010111\n",
            "Encoding: -0.034112375 - 00011\n",
            "Encoding: 0.016121997 - 0010\n",
            "Encoding: -0.024129845 - 0011\n",
            "Encoding: 0.028477395 - 01000\n",
            "Encoding: -0.040784433 - 010010\n",
            "Encoding: 0.033920173 - 010011\n",
            "Encoding: -0.019970372 - 0101\n",
            "Encoding: 0.023896739 - 01100\n",
            "Encoding: -0.028785478 - 01101\n",
            "Encoding: -0.016178027 - 0111\n",
            "Encoding: -1.6104896e-06 - 1\n",
            "Layer 7:\n",
            "Frequency: 9.947689e-07 - 90624\n",
            "Frequency: 0.019126784 - 5301\n",
            "Frequency: -0.014920956 - 8218\n",
            "Frequency: 0.015272997 - 6284\n",
            "Frequency: -0.017837353 - 7410\n",
            "Frequency: 0.040655628 - 1410\n",
            "Frequency: 0.023318127 - 4053\n",
            "Frequency: 0.0335133 - 2219\n",
            "Frequency: 0.05015264 - 800\n",
            "Frequency: 0.028031772 - 3042\n",
            "Frequency: -0.04503834 - 593\n",
            "Frequency: -0.035368018 - 2027\n",
            "Frequency: -0.024744421 - 5265\n",
            "Frequency: -0.021017158 - 6306\n",
            "Frequency: 0.06646008 - 226\n",
            "Frequency: -0.029332252 - 3678\n",
            "Encoding: 0.019126784 - 0000\n",
            "Encoding: 0.040655628 - 000100\n",
            "Encoding: 0.05015264 - 0001010\n",
            "Encoding: 0.06646008 - 00010110\n",
            "Encoding: -0.04503834 - 00010111\n",
            "Encoding: 0.028031772 - 00011\n",
            "Encoding: 0.015272997 - 0010\n",
            "Encoding: -0.021017158 - 0011\n",
            "Encoding: -0.017837353 - 0100\n",
            "Encoding: -0.029332252 - 01010\n",
            "Encoding: 0.023318127 - 01011\n",
            "Encoding: -0.014920956 - 0110\n",
            "Encoding: -0.035368018 - 011100\n",
            "Encoding: 0.0335133 - 011101\n",
            "Encoding: -0.024744421 - 01111\n",
            "Encoding: 9.947689e-07 - 1\n",
            "Layer 8:\n",
            "Frequency: 6.1138417e-07 - 183919\n",
            "Frequency: 0.0097114565 - 13728\n",
            "Frequency: 0.014743138 - 8884\n",
            "Frequency: -0.01216483 - 15667\n",
            "Frequency: 0.017826596 - 6657\n",
            "Frequency: -0.00972787 - 19038\n",
            "Frequency: 0.021531899 - 4425\n",
            "Frequency: -0.021517064 - 4619\n",
            "Frequency: -0.014858578 - 11690\n",
            "Frequency: 0.012095243 - 11203\n",
            "Frequency: -0.03369423 - 581\n",
            "Frequency: -0.01789178 - 8071\n",
            "Frequency: -0.026261607 - 2135\n",
            "Frequency: 0.026269855 - 2704\n",
            "Frequency: 0.03298277 - 1287\n",
            "Frequency: 0.044398177 - 304\n",
            "Encoding: 0.021531899 - 00000\n",
            "Encoding: -0.021517064 - 00001\n",
            "Encoding: 0.012095243 - 0001\n",
            "Encoding: -0.014858578 - 0010\n",
            "Encoding: 0.017826596 - 00110\n",
            "Encoding: 0.026269855 - 001110\n",
            "Encoding: -0.026261607 - 0011110\n",
            "Encoding: 0.044398177 - 001111100\n",
            "Encoding: -0.03369423 - 001111101\n",
            "Encoding: 0.03298277 - 00111111\n",
            "Encoding: 0.0097114565 - 0100\n",
            "Encoding: -0.01216483 - 0101\n",
            "Encoding: -0.01789178 - 01100\n",
            "Encoding: 0.014743138 - 01101\n",
            "Encoding: -0.00972787 - 0111\n",
            "Encoding: 6.1138417e-07 - 1\n",
            "Layer 9:\n",
            "Frequency: -5.3056283e-08 - 369708\n",
            "Frequency: -0.005248891 - 38710\n",
            "Frequency: -0.006566726 - 32026\n",
            "Frequency: -0.00805935 - 24405\n",
            "Frequency: 0.006537225 - 21779\n",
            "Frequency: 0.008007086 - 16951\n",
            "Frequency: -0.009782332 - 16645\n",
            "Frequency: 0.009741332 - 12249\n",
            "Frequency: 0.005229707 - 26281\n",
            "Frequency: 0.0118183205 - 7954\n",
            "Frequency: -0.01188157 - 10041\n",
            "Frequency: 0.018047754 - 2074\n",
            "Frequency: 0.014415281 - 4557\n",
            "Frequency: -0.014679688 - 4691\n",
            "Frequency: -0.019120328 - 1239\n",
            "Frequency: 0.024054423 - 514\n",
            "Encoding: 0.024054423 - 00000000\n",
            "Encoding: -0.019120328 - 00000001\n",
            "Encoding: 0.018047754 - 0000001\n",
            "Encoding: 0.014415281 - 000001\n",
            "Encoding: -0.01188157 - 00001\n",
            "Encoding: 0.006537225 - 0001\n",
            "Encoding: -0.00805935 - 0010\n",
            "Encoding: 0.009741332 - 00110\n",
            "Encoding: -0.014679688 - 001110\n",
            "Encoding: 0.0118183205 - 001111\n",
            "Encoding: 0.005229707 - 0100\n",
            "Encoding: -0.006566726 - 0101\n",
            "Encoding: -0.009782332 - 01100\n",
            "Encoding: 0.008007086 - 01101\n",
            "Encoding: -0.005248891 - 0111\n",
            "Encoding: -5.3056283e-08 - 1\n",
            "Layer 10:\n",
            "Frequency: 5.172478e-07 - 378943\n",
            "Frequency: -0.005142219 - 28325\n",
            "Frequency: -0.007713177 - 15116\n",
            "Frequency: 0.0053243963 - 23269\n",
            "Frequency: -0.004121375 - 35263\n",
            "Frequency: 0.0066265753 - 17429\n",
            "Frequency: 0.004178398 - 29767\n",
            "Frequency: 0.008144592 - 11814\n",
            "Frequency: -0.0063051702 - 21951\n",
            "Frequency: -0.012132964 - 4146\n",
            "Frequency: 0.015562528 - 1757\n",
            "Frequency: 0.00996467 - 7251\n",
            "Frequency: -0.009529376 - 9219\n",
            "Frequency: 0.012289649 - 4103\n",
            "Frequency: 0.021228198 - 444\n",
            "Frequency: -0.016447874 - 1027\n",
            "Encoding: 0.0066265753 - 0000\n",
            "Encoding: -0.0063051702 - 0001\n",
            "Encoding: -0.012132964 - 001000\n",
            "Encoding: 0.00996467 - 001001\n",
            "Encoding: 0.008144592 - 00101\n",
            "Encoding: 0.0053243963 - 0011\n",
            "Encoding: -0.005142219 - 0100\n",
            "Encoding: 0.004178398 - 0101\n",
            "Encoding: -0.007713177 - 01100\n",
            "Encoding: 0.021228198 - 011010000\n",
            "Encoding: -0.016447874 - 011010001\n",
            "Encoding: 0.015562528 - 01101001\n",
            "Encoding: 0.012289649 - 0110101\n",
            "Encoding: -0.009529376 - 011011\n",
            "Encoding: -0.004121375 - 0111\n",
            "Encoding: 5.172478e-07 - 1\n",
            "Layer 11:\n",
            "Frequency: -1.2201199e-06 - 399321\n",
            "Frequency: 0.0046828846 - 13584\n",
            "Frequency: -0.0028880031 - 40699\n",
            "Frequency: -0.0037383612 - 29172\n",
            "Frequency: 0.0037219 - 18789\n",
            "Frequency: 0.0028857058 - 24630\n",
            "Frequency: -0.006031352 - 12290\n",
            "Frequency: -0.0047640977 - 19563\n",
            "Frequency: 0.0058555426 - 9224\n",
            "Frequency: 0.007346874 - 5339\n",
            "Frequency: -0.0076109497 - 7545\n",
            "Frequency: -0.00963231 - 4135\n",
            "Frequency: 0.009464858 - 2538\n",
            "Frequency: 0.0130383745 - 706\n",
            "Frequency: -0.012395981 - 1789\n",
            "Frequency: -0.017148243 - 500\n",
            "Encoding: 0.0037219 - 0000\n",
            "Encoding: -0.0047640977 - 0001\n",
            "Encoding: -0.0028880031 - 001\n",
            "Encoding: 0.0028857058 - 0100\n",
            "Encoding: -0.006031352 - 01010\n",
            "Encoding: 0.009464858 - 0101100\n",
            "Encoding: -0.017148243 - 010110100\n",
            "Encoding: 0.0130383745 - 010110101\n",
            "Encoding: -0.012395981 - 01011011\n",
            "Encoding: -0.0076109497 - 010111\n",
            "Encoding: -0.0037383612 - 0110\n",
            "Encoding: 0.0046828846 - 01110\n",
            "Encoding: 0.0058555426 - 011110\n",
            "Encoding: -0.00963231 - 0111110\n",
            "Encoding: 0.007346874 - 0111111\n",
            "Encoding: -1.2201199e-06 - 1\n",
            "Layer 12:\n",
            "Frequency: 7.866038e-08 - 404976\n",
            "Frequency: -0.002467684 - 38934\n",
            "Frequency: -0.0040019955 - 18960\n",
            "Frequency: -0.0031634069 - 28338\n",
            "Frequency: -0.0050816727 - 10987\n",
            "Frequency: 0.0024963329 - 24436\n",
            "Frequency: 0.0032749297 - 17902\n",
            "Frequency: 0.0042002867 - 13204\n",
            "Frequency: 0.006607185 - 6762\n",
            "Frequency: 0.0052874587 - 9954\n",
            "Frequency: -0.0085018175 - 2572\n",
            "Frequency: 0.008231007 - 4096\n",
            "Frequency: -0.006523615 - 5845\n",
            "Frequency: -0.011768387 - 645\n",
            "Frequency: 0.010498462 - 1788\n",
            "Frequency: 0.014241492 - 425\n",
            "Encoding: -0.0040019955 - 0000\n",
            "Encoding: 0.008231007 - 000100\n",
            "Encoding: -0.0085018175 - 0001010\n",
            "Encoding: 0.014241492 - 000101100\n",
            "Encoding: -0.011768387 - 000101101\n",
            "Encoding: 0.010498462 - 00010111\n",
            "Encoding: 0.0052874587 - 00011\n",
            "Encoding: -0.002467684 - 001\n",
            "Encoding: -0.0050816727 - 01000\n",
            "Encoding: -0.006523615 - 010010\n",
            "Encoding: 0.006607185 - 010011\n",
            "Encoding: 0.0024963329 - 0101\n",
            "Encoding: -0.0031634069 - 0110\n",
            "Encoding: 0.0042002867 - 01110\n",
            "Encoding: 0.0032749297 - 01111\n",
            "Encoding: 7.866038e-08 - 1\n",
            "Layer 13:\n",
            "Frequency: -2.6302587e-09 - 433279\n",
            "Frequency: -0.0023684076 - 35278\n",
            "Frequency: -0.0048347665 - 7658\n",
            "Frequency: -0.0029914675 - 24512\n",
            "Frequency: 0.012072842 - 1936\n",
            "Frequency: -0.0037625048 - 14247\n",
            "Frequency: 0.0034464458 - 13926\n",
            "Frequency: 0.0024751658 - 23531\n",
            "Frequency: 0.0059923264 - 8171\n",
            "Frequency: 0.0046370733 - 10171\n",
            "Frequency: 0.0075667053 - 5985\n",
            "Frequency: 0.009506667 - 3902\n",
            "Frequency: -0.0063991826 - 3974\n",
            "Frequency: -0.008569173 - 2081\n",
            "Frequency: 0.01602328 - 563\n",
            "Frequency: -0.012105795 - 610\n",
            "Encoding: -0.0037625048 - 0000\n",
            "Encoding: -0.0048347665 - 00010\n",
            "Encoding: 0.009506667 - 000110\n",
            "Encoding: -0.0063991826 - 000111\n",
            "Encoding: -0.0023684076 - 001\n",
            "Encoding: 0.0059923264 - 01000\n",
            "Encoding: 0.0046370733 - 01001\n",
            "Encoding: 0.0024751658 - 0101\n",
            "Encoding: -0.0029914675 - 0110\n",
            "Encoding: -0.008569173 - 0111000\n",
            "Encoding: 0.01602328 - 011100100\n",
            "Encoding: -0.012105795 - 011100101\n",
            "Encoding: 0.012072842 - 01110011\n",
            "Encoding: 0.0075667053 - 011101\n",
            "Encoding: 0.0034464458 - 01111\n",
            "Encoding: -2.6302587e-09 - 1\n",
            "Layer 14:\n",
            "Frequency: -0.019089965 - 816\n",
            "Frequency: 1.5541445e-08 - 40053\n",
            "Frequency: -0.011426345 - 2549\n",
            "Frequency: -0.007713841 - 3578\n",
            "Frequency: 0.0115525285 - 2180\n",
            "Frequency: -0.009476441 - 3159\n",
            "Frequency: 0.007698936 - 3286\n",
            "Frequency: 0.025682565 - 170\n",
            "Frequency: -0.016120471 - 1339\n",
            "Frequency: 0.009501319 - 2791\n",
            "Frequency: -0.013584826 - 1947\n",
            "Frequency: -0.022905447 - 401\n",
            "Frequency: 0.013886918 - 1597\n",
            "Frequency: 0.016628914 - 1002\n",
            "Frequency: 0.020182127 - 558\n",
            "Frequency: -0.029068574 - 110\n",
            "Encoding: -0.011426345 - 0000\n",
            "Encoding: 0.020182127 - 000100\n",
            "Encoding: -0.029068574 - 00010100\n",
            "Encoding: 0.025682565 - 00010101\n",
            "Encoding: -0.022905447 - 0001011\n",
            "Encoding: -0.016120471 - 00011\n",
            "Encoding: 0.009501319 - 0010\n",
            "Encoding: -0.009476441 - 0011\n",
            "Encoding: 0.007698936 - 0100\n",
            "Encoding: 0.013886918 - 01010\n",
            "Encoding: -0.019089965 - 010110\n",
            "Encoding: 0.016628914 - 010111\n",
            "Encoding: -0.007713841 - 0110\n",
            "Encoding: -0.013584826 - 01110\n",
            "Encoding: 0.0115525285 - 01111\n",
            "Encoding: 1.5541445e-08 - 1\n",
            "Layer 15:\n",
            "Frequency: 1.5299884e-07 - 40731\n",
            "Frequency: 0.009980891 - 2214\n",
            "Frequency: 0.02358648 - 695\n",
            "Frequency: 0.019836178 - 1026\n",
            "Frequency: 0.01419138 - 1709\n",
            "Frequency: 0.011960361 - 1997\n",
            "Frequency: -0.01343413 - 1896\n",
            "Frequency: 0.016728582 - 1444\n",
            "Frequency: -0.00961294 - 3112\n",
            "Frequency: -0.00807126 - 3722\n",
            "Frequency: -0.01601331 - 1046\n",
            "Frequency: -0.011333137 - 2660\n",
            "Frequency: 0.008198292 - 2432\n",
            "Frequency: 0.028587934 - 362\n",
            "Frequency: -0.01978778 - 369\n",
            "Frequency: 0.03555144 - 121\n",
            "Encoding: 0.009980891 - 0000\n",
            "Encoding: 0.008198292 - 0001\n",
            "Encoding: -0.011333137 - 0010\n",
            "Encoding: 0.016728582 - 00110\n",
            "Encoding: 0.02358648 - 001110\n",
            "Encoding: -0.01978778 - 0011110\n",
            "Encoding: 0.03555144 - 00111110\n",
            "Encoding: 0.028587934 - 00111111\n",
            "Encoding: -0.00961294 - 0100\n",
            "Encoding: 0.01419138 - 01010\n",
            "Encoding: -0.01343413 - 01011\n",
            "Encoding: -0.00807126 - 0110\n",
            "Encoding: 0.011960361 - 01110\n",
            "Encoding: 0.019836178 - 011110\n",
            "Encoding: -0.01601331 - 011111\n",
            "Encoding: 1.5299884e-07 - 1\n",
            "Layer 16:\n",
            "Frequency: -2.2165477e-07 - 1377\n",
            "Frequency: 0.07693958 - 79\n",
            "Frequency: 0.10383655 - 83\n",
            "Frequency: -0.09811376 - 85\n",
            "Frequency: -0.07281172 - 159\n",
            "Frequency: 0.14041807 - 88\n",
            "Frequency: -0.087377146 - 121\n",
            "Frequency: -0.07940628 - 132\n",
            "Frequency: 0.11753279 - 71\n",
            "Frequency: 0.17287728 - 68\n",
            "Frequency: -0.11724572 - 25\n",
            "Frequency: 0.12922212 - 63\n",
            "Frequency: 0.09165692 - 70\n",
            "Frequency: 0.15497118 - 86\n",
            "Frequency: 0.21186145 - 9\n",
            "Frequency: 0.19007993 - 44\n",
            "Encoding: -0.087377146 - 0000\n",
            "Encoding: 0.12922212 - 00010\n",
            "Encoding: 0.17287728 - 00011\n",
            "Encoding: -0.07940628 - 0010\n",
            "Encoding: 0.09165692 - 00110\n",
            "Encoding: 0.11753279 - 00111\n",
            "Encoding: 0.21186145 - 0100000\n",
            "Encoding: -0.11724572 - 0100001\n",
            "Encoding: 0.19007993 - 010001\n",
            "Encoding: 0.07693958 - 01001\n",
            "Encoding: -0.07281172 - 0101\n",
            "Encoding: 0.10383655 - 01100\n",
            "Encoding: -0.09811376 - 01101\n",
            "Encoding: 0.15497118 - 01110\n",
            "Encoding: 0.14041807 - 01111\n",
            "Encoding: -2.2165477e-07 - 1\n"
          ]
        }
      ],
      "source": [
        "import numpy as np\n",
        "\n",
        "# Load the saved Huffman frequency and encoding data\n",
        "freq_map = np.load(\"huffman_freq.npy\", allow_pickle=True)\n",
        "encodings_map = np.load(\"huffman_encoding.npy\", allow_pickle=True)\n",
        "\n",
        "# Iterate through the loaded data\n",
        "for layer_ind, (freq, encodings) in enumerate(zip(freq_map, encodings_map)):\n",
        "    print(f\"Layer {layer_ind + 1}:\")\n",
        "    for key, value in freq.items():\n",
        "        print(f\"Frequency: {key} - {value}\")\n",
        "\n",
        "    for key, value in encodings.items():\n",
        "        print(f\"Encoding: {key} - {value}\")\n",
        "\n"
      ]
    },
    {
      "cell_type": "code",
      "execution_count": 16,
      "metadata": {
        "id": "UmjVsHsRiRS1",
        "colab": {
          "base_uri": "https://localhost:8080/"
        },
        "outputId": "0f0af72c-ef41-4599-dbf4-327fa0304422"
      },
      "outputs": [
        {
          "output_type": "stream",
          "name": "stdout",
          "text": [
            "Weighted Average Storage: 2.17\n"
          ]
        }
      ],
      "source": [
        "# Initialize variables to store the total weighted storage and total parameters\n",
        "total_weighted_storage = 0.0\n",
        "total_parameters = 0\n",
        "\n",
        "# Iterate through layers in your network\n",
        "for i, (frequencies, encodings) in enumerate(zip(frequency_map, encoding_map), start=1):\n",
        "    layer_name = str(i)  # You may use the layer index as the name\n",
        "\n",
        "    # Calculate the weighted sum for the current layer\n",
        "    weighted_storage_for_layer = sum(frequencies[key] * len(encodings[key]) for key in encodings)\n",
        "\n",
        "    # Add the weighted storage to the total\n",
        "    total_weighted_storage += weighted_storage_for_layer\n",
        "\n",
        "    # Add the total parameters for the current layer to the overall total\n",
        "    total_parameters += sum(frequencies.values())\n",
        "\n",
        "# Calculate the weighted average storage for the entire network\n",
        "weighted_average = total_weighted_storage / total_parameters\n",
        "\n",
        "print(\"Weighted Average Storage: %.2f\" %weighted_average)\n"
      ]
    },
    {
      "cell_type": "code",
      "execution_count": 17,
      "metadata": {
        "id": "m0ZMRxuLJiRo",
        "colab": {
          "base_uri": "https://localhost:8080/"
        },
        "outputId": "5094b66c-49cd-4854-b0c0-8a02ba4fc7b4"
      },
      "outputs": [
        {
          "output_type": "stream",
          "name": "stdout",
          "text": [
            "Size of Encoded Weights: 4706828 bytes\n"
          ]
        }
      ],
      "source": [
        "def calculate_encoded_weights_size(encoding_map, frequency_map):\n",
        "    total_bits = 0\n",
        "\n",
        "    # Step 1: Calculate the bit lengths for each weight using the encoding map\n",
        "    for i in range(len(frequency_map)):\n",
        "        weight = list(frequency_map[i].keys())[0]\n",
        "        huffman_code = encoding_map[i]\n",
        "        bits_required = len(huffman_code) * list(frequency_map[i].values())[0]  # Multiply by frequency for repeated values\n",
        "        total_bits += bits_required\n",
        "\n",
        "    # Step 2: Calculate the size of encoded weights in bytes (divide by 8)\n",
        "    encoded_weights_size_bytes = total_bits // 8\n",
        "\n",
        "    return encoded_weights_size_bytes\n",
        "\n",
        "# Example usage:\n",
        "encoded_weights_size_bytes = calculate_encoded_weights_size(encodings_map, freq_map)\n",
        "print(\"Size of Encoded Weights: {} bytes\".format(encoded_weights_size_bytes))"
      ]
    }
  ],
  "metadata": {
    "accelerator": "GPU",
    "colab": {
      "provenance": []
    },
    "kernelspec": {
      "display_name": "Python 3",
      "name": "python3"
    },
    "language_info": {
      "name": "python"
    }
  },
  "nbformat": 4,
  "nbformat_minor": 0
}